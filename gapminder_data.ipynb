{
 "cells": [
  {
   "cell_type": "markdown",
   "metadata": {},
   "source": [
    "# Gapminder Data Analysis"
   ]
  },
  {
   "cell_type": "markdown",
   "metadata": {},
   "source": [
    "# Introduction\n",
    "\n",
    "### Dataset Description\n",
    "\n",
    "For this project, we're going to be using data from the [gapminder project](https://www.gapminder.org/data/). Specifically, we'll be looking at relationships between GDP Per cápita and Education inequality. \n",
    "\n",
    "For this, we're going to use two different datasets: \n",
    "* GDP Per Cápita Adjusted for constant 2010 prices in $ [Dataset](https://www.gapminder.org/data/)\n",
    "* Mean Years of education for men and women > 25 years old [Dataset men](https://www.gapminder.org/data/)[Dataset Women](https://www.gapminder.org/data/)\n",
    "\n",
    "### Questions for analysis\n",
    "\n",
    "We're going to be centering ourselves on the theme of Education Vs Income. \n",
    "\n",
    "For this, We'll be answeting the following questions: \n",
    "\n",
    "* How has the Distribution of income changed from 1986 to 2006?\n",
    "* Has inequality in access to education got better in the 21 century?\n",
    "* Is there a relatiionship between Education Inequality and Income?\n",
    "\n"
   ]
  },
  {
   "cell_type": "code",
   "execution_count": 36,
   "metadata": {},
   "outputs": [],
   "source": [
    "#  Library importation and data loading\n",
    "import pandas as pd\n",
    "import numpy as np\n",
    "import matplotlib.pyplot as plt\n",
    "%matplotlib inline\n",
    "\n",
    "df = pd.read_csv('gdppercapita.csv', index_col = 'country')"
   ]
  },
  {
   "cell_type": "markdown",
   "metadata": {},
   "source": [
    "# Data Wrangling"
   ]
  },
  {
   "cell_type": "markdown",
   "metadata": {},
   "source": [
    "### GDP Per Capita Data\n",
    "We'll be working with data from the years 1986 and 2016. We are working with this values, so that we can visualize the changes in the 40 years that have passed. "
   ]
  },
  {
   "cell_type": "code",
   "execution_count": 37,
   "metadata": {},
   "outputs": [
    {
     "data": {
      "text/plain": [
       "country\n",
       "Aruba                   17.2k\n",
       "Angola                   3230\n",
       "Albania                  1800\n",
       "Andorra                 29.2k\n",
       "United Arab Emirates    62.4k\n",
       "Name: 1986, dtype: object"
      ]
     },
     "execution_count": 37,
     "metadata": {},
     "output_type": "execute_result"
    }
   ],
   "source": [
    "# We select the years that we'll be using\n",
    "gdp_86 = df['1986']\n",
    "gdp_16 = df['2016']\n",
    "\n",
    "# Drop the null values\n",
    "gdp_86.dropna(inplace= True)\n",
    "gdp_16.dropna(inplace = True)\n",
    "\n",
    "gdp_86.head()"
   ]
  },
  {
   "cell_type": "markdown",
   "metadata": {},
   "source": [
    "We can see that there are rows that have some issues with the data format. We need to deal with the decimal dots '.' and the k that means the value has to be multiplied by 1000. We'll clean the data now:"
   ]
  },
  {
   "cell_type": "code",
   "execution_count": 38,
   "metadata": {},
   "outputs": [],
   "source": [
    "# Cleaning both years data\n",
    "for item in gdp_86.index:\n",
    "    # We check if the value for the row has 'k' in it\n",
    "    if 'k' in gdp_86[item]:\n",
    "        # We have two different scenarios: values with decimal point and values without \n",
    "        if '.' in gdp_86[item]:\n",
    "            clean = gdp_86[item].replace('.', '')\n",
    "            clean = clean.replace('k', '')\n",
    "            value = int(clean) * 100\n",
    "            gdp_86.loc[item] = value\n",
    "\n",
    "        else:\n",
    "            clean = gdp_86[item].replace('k', '')\n",
    "            value = int(clean) * 1000\n",
    "            gdp_86.loc[item] = value\n",
    "        \n",
    "    else:\n",
    "        continue\n",
    "\n",
    "# Now we do the same for the 2016 data\n",
    "for item in gdp_16.index:\n",
    "    \n",
    "    if 'k' in gdp_16[item]:\n",
    "        \n",
    "        if '.' in gdp_16[item]:\n",
    "            clean = gdp_16[item].replace('.', '')\n",
    "            clean = clean.replace('k', '')\n",
    "            value = int(clean) * 100\n",
    "            gdp_16.loc[item] = int(value)\n",
    "\n",
    "        else:\n",
    "            clean = gdp_16[item].replace('k', '')\n",
    "            value = int(clean) * 1000\n",
    "            gdp_16.loc[item] = int(value)\n",
    "        \n",
    "    else:\n",
    "        continue\n",
    "\n",
    "# We ensure that our format is a DataFrame and that the datatypes are the correct ones.\n",
    "gdp_86 = gdp_86.to_frame().astype('int32')\n",
    "gdp_16 = gdp_16.to_frame().astype('int32')\n",
    "\n",
    "# To ensure that we got data from the same countries, let's perform a join\n",
    "gdp = gdp_86.join(gdp_16, how='inner')"
   ]
  },
  {
   "cell_type": "markdown",
   "metadata": {},
   "source": [
    "### Mean years in School (Men VS. Women)"
   ]
  },
  {
   "cell_type": "code",
   "execution_count": 39,
   "metadata": {},
   "outputs": [
    {
     "data": {
      "text/html": [
       "<div>\n",
       "<style scoped>\n",
       "    .dataframe tbody tr th:only-of-type {\n",
       "        vertical-align: middle;\n",
       "    }\n",
       "\n",
       "    .dataframe tbody tr th {\n",
       "        vertical-align: top;\n",
       "    }\n",
       "\n",
       "    .dataframe thead th {\n",
       "        text-align: right;\n",
       "    }\n",
       "</style>\n",
       "<table border=\"1\" class=\"dataframe\">\n",
       "  <thead>\n",
       "    <tr style=\"text-align: right;\">\n",
       "      <th></th>\n",
       "      <th>1970</th>\n",
       "      <th>1971</th>\n",
       "      <th>1972</th>\n",
       "      <th>1973</th>\n",
       "      <th>1974</th>\n",
       "      <th>1975</th>\n",
       "      <th>1976</th>\n",
       "      <th>1977</th>\n",
       "      <th>1978</th>\n",
       "      <th>1979</th>\n",
       "      <th>...</th>\n",
       "      <th>2000</th>\n",
       "      <th>2001</th>\n",
       "      <th>2002</th>\n",
       "      <th>2003</th>\n",
       "      <th>2004</th>\n",
       "      <th>2005</th>\n",
       "      <th>2006</th>\n",
       "      <th>2007</th>\n",
       "      <th>2008</th>\n",
       "      <th>2009</th>\n",
       "    </tr>\n",
       "    <tr>\n",
       "      <th>country</th>\n",
       "      <th></th>\n",
       "      <th></th>\n",
       "      <th></th>\n",
       "      <th></th>\n",
       "      <th></th>\n",
       "      <th></th>\n",
       "      <th></th>\n",
       "      <th></th>\n",
       "      <th></th>\n",
       "      <th></th>\n",
       "      <th></th>\n",
       "      <th></th>\n",
       "      <th></th>\n",
       "      <th></th>\n",
       "      <th></th>\n",
       "      <th></th>\n",
       "      <th></th>\n",
       "      <th></th>\n",
       "      <th></th>\n",
       "      <th></th>\n",
       "      <th></th>\n",
       "    </tr>\n",
       "  </thead>\n",
       "  <tbody>\n",
       "    <tr>\n",
       "      <th>Afghanistan</th>\n",
       "      <td>0.7</td>\n",
       "      <td>0.7</td>\n",
       "      <td>0.8</td>\n",
       "      <td>0.8</td>\n",
       "      <td>0.8</td>\n",
       "      <td>0.9</td>\n",
       "      <td>0.9</td>\n",
       "      <td>0.9</td>\n",
       "      <td>1.0</td>\n",
       "      <td>1.0</td>\n",
       "      <td>...</td>\n",
       "      <td>2.1</td>\n",
       "      <td>2.1</td>\n",
       "      <td>2.2</td>\n",
       "      <td>2.3</td>\n",
       "      <td>2.3</td>\n",
       "      <td>2.4</td>\n",
       "      <td>2.4</td>\n",
       "      <td>2.5</td>\n",
       "      <td>2.6</td>\n",
       "      <td>2.6</td>\n",
       "    </tr>\n",
       "    <tr>\n",
       "      <th>Angola</th>\n",
       "      <td>1.4</td>\n",
       "      <td>1.5</td>\n",
       "      <td>1.5</td>\n",
       "      <td>1.6</td>\n",
       "      <td>1.7</td>\n",
       "      <td>1.7</td>\n",
       "      <td>1.8</td>\n",
       "      <td>1.9</td>\n",
       "      <td>2.0</td>\n",
       "      <td>2.0</td>\n",
       "      <td>...</td>\n",
       "      <td>4.0</td>\n",
       "      <td>4.1</td>\n",
       "      <td>4.3</td>\n",
       "      <td>4.4</td>\n",
       "      <td>4.5</td>\n",
       "      <td>4.6</td>\n",
       "      <td>4.7</td>\n",
       "      <td>4.9</td>\n",
       "      <td>5.0</td>\n",
       "      <td>5.1</td>\n",
       "    </tr>\n",
       "    <tr>\n",
       "      <th>Albania</th>\n",
       "      <td>5.1</td>\n",
       "      <td>5.2</td>\n",
       "      <td>5.3</td>\n",
       "      <td>5.5</td>\n",
       "      <td>5.6</td>\n",
       "      <td>5.7</td>\n",
       "      <td>5.9</td>\n",
       "      <td>6.0</td>\n",
       "      <td>6.1</td>\n",
       "      <td>6.3</td>\n",
       "      <td>...</td>\n",
       "      <td>9.1</td>\n",
       "      <td>9.2</td>\n",
       "      <td>9.4</td>\n",
       "      <td>9.5</td>\n",
       "      <td>9.6</td>\n",
       "      <td>9.8</td>\n",
       "      <td>9.9</td>\n",
       "      <td>10.0</td>\n",
       "      <td>10.1</td>\n",
       "      <td>10.2</td>\n",
       "    </tr>\n",
       "    <tr>\n",
       "      <th>United Arab Emirates</th>\n",
       "      <td>3.0</td>\n",
       "      <td>3.1</td>\n",
       "      <td>3.2</td>\n",
       "      <td>3.3</td>\n",
       "      <td>3.5</td>\n",
       "      <td>3.6</td>\n",
       "      <td>3.8</td>\n",
       "      <td>3.9</td>\n",
       "      <td>4.1</td>\n",
       "      <td>4.2</td>\n",
       "      <td>...</td>\n",
       "      <td>8.0</td>\n",
       "      <td>8.2</td>\n",
       "      <td>8.4</td>\n",
       "      <td>8.5</td>\n",
       "      <td>8.7</td>\n",
       "      <td>8.8</td>\n",
       "      <td>9.0</td>\n",
       "      <td>9.2</td>\n",
       "      <td>9.3</td>\n",
       "      <td>9.5</td>\n",
       "    </tr>\n",
       "    <tr>\n",
       "      <th>Argentina</th>\n",
       "      <td>5.9</td>\n",
       "      <td>6.0</td>\n",
       "      <td>6.1</td>\n",
       "      <td>6.2</td>\n",
       "      <td>6.3</td>\n",
       "      <td>6.4</td>\n",
       "      <td>6.6</td>\n",
       "      <td>6.7</td>\n",
       "      <td>6.8</td>\n",
       "      <td>6.9</td>\n",
       "      <td>...</td>\n",
       "      <td>8.9</td>\n",
       "      <td>9.0</td>\n",
       "      <td>9.1</td>\n",
       "      <td>9.2</td>\n",
       "      <td>9.3</td>\n",
       "      <td>9.4</td>\n",
       "      <td>9.5</td>\n",
       "      <td>9.6</td>\n",
       "      <td>9.7</td>\n",
       "      <td>9.8</td>\n",
       "    </tr>\n",
       "  </tbody>\n",
       "</table>\n",
       "<p>5 rows × 40 columns</p>\n",
       "</div>"
      ],
      "text/plain": [
       "                      1970  1971  1972  1973  1974  1975  1976  1977  1978  \\\n",
       "country                                                                      \n",
       "Afghanistan            0.7   0.7   0.8   0.8   0.8   0.9   0.9   0.9   1.0   \n",
       "Angola                 1.4   1.5   1.5   1.6   1.7   1.7   1.8   1.9   2.0   \n",
       "Albania                5.1   5.2   5.3   5.5   5.6   5.7   5.9   6.0   6.1   \n",
       "United Arab Emirates   3.0   3.1   3.2   3.3   3.5   3.6   3.8   3.9   4.1   \n",
       "Argentina              5.9   6.0   6.1   6.2   6.3   6.4   6.6   6.7   6.8   \n",
       "\n",
       "                      1979  ...  2000  2001  2002  2003  2004  2005  2006  \\\n",
       "country                     ...                                             \n",
       "Afghanistan            1.0  ...   2.1   2.1   2.2   2.3   2.3   2.4   2.4   \n",
       "Angola                 2.0  ...   4.0   4.1   4.3   4.4   4.5   4.6   4.7   \n",
       "Albania                6.3  ...   9.1   9.2   9.4   9.5   9.6   9.8   9.9   \n",
       "United Arab Emirates   4.2  ...   8.0   8.2   8.4   8.5   8.7   8.8   9.0   \n",
       "Argentina              6.9  ...   8.9   9.0   9.1   9.2   9.3   9.4   9.5   \n",
       "\n",
       "                      2007  2008  2009  \n",
       "country                                 \n",
       "Afghanistan            2.5   2.6   2.6  \n",
       "Angola                 4.9   5.0   5.1  \n",
       "Albania               10.0  10.1  10.2  \n",
       "United Arab Emirates   9.2   9.3   9.5  \n",
       "Argentina              9.6   9.7   9.8  \n",
       "\n",
       "[5 rows x 40 columns]"
      ]
     },
     "execution_count": 39,
     "metadata": {},
     "output_type": "execute_result"
    }
   ],
   "source": [
    "# First loading and data inspection\n",
    "men_yr = pd.read_csv('mean_years_men_25.csv', index_col=0)\n",
    "women_yr = pd.read_csv('mean_years_women_25.csv', index_col=0)\n",
    "\n",
    "men_yr.head()"
   ]
  },
  {
   "cell_type": "code",
   "execution_count": 40,
   "metadata": {},
   "outputs": [],
   "source": [
    "# Let's compare the data between 1986 and the most recent one for education, 2009\n",
    "# We need to clean the data again for 2009\n",
    "gdp_09 = df['2009'].dropna()\n",
    "for item in gdp_09.index:\n",
    "    \n",
    "    if 'k' in gdp_09[item]:\n",
    "        # We have two different scenarios: values with decimal point and values without \n",
    "        if '.' in gdp_09[item]:\n",
    "            clean = gdp_09[item].replace('.', '')\n",
    "            clean = clean.replace('k', '')\n",
    "            value = int(clean) * 100\n",
    "            gdp_09.loc[item] = value\n",
    "\n",
    "        else:\n",
    "            clean = gdp_09[item].replace('k', '')\n",
    "            value = int(clean) * 1000\n",
    "            gdp_09.loc[item] = value\n",
    "        \n",
    "    else:\n",
    "        continue\n"
   ]
  },
  {
   "cell_type": "code",
   "execution_count": 41,
   "metadata": {},
   "outputs": [
    {
     "data": {
      "text/html": [
       "<div>\n",
       "<style scoped>\n",
       "    .dataframe tbody tr th:only-of-type {\n",
       "        vertical-align: middle;\n",
       "    }\n",
       "\n",
       "    .dataframe tbody tr th {\n",
       "        vertical-align: top;\n",
       "    }\n",
       "\n",
       "    .dataframe thead th {\n",
       "        text-align: right;\n",
       "    }\n",
       "</style>\n",
       "<table border=\"1\" class=\"dataframe\">\n",
       "  <thead>\n",
       "    <tr style=\"text-align: right;\">\n",
       "      <th></th>\n",
       "      <th>2009</th>\n",
       "      <th>year_men</th>\n",
       "      <th>year_women</th>\n",
       "      <th>indicator</th>\n",
       "    </tr>\n",
       "    <tr>\n",
       "      <th>country</th>\n",
       "      <th></th>\n",
       "      <th></th>\n",
       "      <th></th>\n",
       "      <th></th>\n",
       "    </tr>\n",
       "  </thead>\n",
       "  <tbody>\n",
       "    <tr>\n",
       "      <th>Afghanistan</th>\n",
       "      <td>473.0</td>\n",
       "      <td>2.6</td>\n",
       "      <td>0.4</td>\n",
       "      <td>6.500000</td>\n",
       "    </tr>\n",
       "    <tr>\n",
       "      <th>Angola</th>\n",
       "      <td>3960.0</td>\n",
       "      <td>5.1</td>\n",
       "      <td>2.8</td>\n",
       "      <td>1.821429</td>\n",
       "    </tr>\n",
       "    <tr>\n",
       "      <th>Albania</th>\n",
       "      <td>3430.0</td>\n",
       "      <td>10.2</td>\n",
       "      <td>9.4</td>\n",
       "      <td>1.085106</td>\n",
       "    </tr>\n",
       "    <tr>\n",
       "      <th>United Arab Emirates</th>\n",
       "      <td>34600.0</td>\n",
       "      <td>9.5</td>\n",
       "      <td>8.3</td>\n",
       "      <td>1.144578</td>\n",
       "    </tr>\n",
       "    <tr>\n",
       "      <th>Argentina</th>\n",
       "      <td>12400.0</td>\n",
       "      <td>9.8</td>\n",
       "      <td>10.1</td>\n",
       "      <td>0.970297</td>\n",
       "    </tr>\n",
       "  </tbody>\n",
       "</table>\n",
       "</div>"
      ],
      "text/plain": [
       "                         2009  year_men  year_women  indicator\n",
       "country                                                       \n",
       "Afghanistan             473.0       2.6         0.4   6.500000\n",
       "Angola                 3960.0       5.1         2.8   1.821429\n",
       "Albania                3430.0      10.2         9.4   1.085106\n",
       "United Arab Emirates  34600.0       9.5         8.3   1.144578\n",
       "Argentina             12400.0       9.8        10.1   0.970297"
      ]
     },
     "execution_count": 41,
     "metadata": {},
     "output_type": "execute_result"
    }
   ],
   "source": [
    "# Obtenemos todos nuestros datos para 2009\n",
    "gdp_09.to_frame().rename({'2009': 'gdp'}, axis = 1)\n",
    "men_09 = men_yr['2009'].dropna().to_frame().rename({'2009' : 'year_men'}, axis = 1)\n",
    "women_09 = women_yr['2009'].dropna().to_frame().rename({'2009' : 'year_women'}, axis = 1)\n",
    "\n",
    "# JUntamos todos los datos en un solo DataFrame\n",
    "final = gdp_09.to_frame().join(men_09, how = 'inner').join(women_09, how = 'inner')\n",
    "\n",
    "# Calculamos nuestro indicador para el año 2009\n",
    "final['indicator'] = final['year_men'] / final['year_women']\n",
    "final = final.astype({'2009': float})\n",
    "\n",
    "final.head()"
   ]
  },
  {
   "cell_type": "markdown",
   "metadata": {},
   "source": [
    "# Exploratory Data Analysis\n",
    "\n",
    "Let's take a look at our data to see how it looks like after cleaning\n",
    "\n",
    "### GDP per capita"
   ]
  },
  {
   "cell_type": "code",
   "execution_count": 42,
   "metadata": {},
   "outputs": [
    {
     "data": {
      "image/png": "[encoded data removed]",
      "text/plain": [
       "<Figure size 432x288 with 1 Axes>"
      ]
     },
     "metadata": {
      "needs_background": "light"
     },
     "output_type": "display_data"
    }
   ],
   "source": [
    "gdp['2016'].plot(kind = 'hist', label = '2016')\n",
    "gdp['1986'].plot(kind = 'hist', label = '1986')\n",
    "plt.legend()\n",
    "plt.xlabel('GDP Per Cápita ($)')\n",
    "plt.title('GDP per cápita distribution (Fig 1)');"
   ]
  },
  {
   "cell_type": "markdown",
   "metadata": {},
   "source": [
    "\n",
    "\n",
    "We can see that the distribution as a whole moved to the right. This makes sense, as the world as a whole has experienced continued advances and progress in economic matters in this 4 decades. Let's eliminate some of the outliers (> 100.000 $) so that we can see a more detailed graph."
   ]
  },
  {
   "cell_type": "code",
   "execution_count": 43,
   "metadata": {},
   "outputs": [
    {
     "data": {
      "image/png": "[encoded data removed]",
      "text/plain": [
       "<Figure size 432x288 with 1 Axes>"
      ]
     },
     "metadata": {
      "needs_background": "light"
     },
     "output_type": "display_data"
    }
   ],
   "source": [
    "plt.hist(x=gdp[gdp['2016'] <= 100000]['2016'], alpha = 0.2, label= '2016', color = 'red');\n",
    "plt.hist(x=gdp[gdp['1986'] <= 100000]['1986'], alpha = 0.3, label= '1986', color = 'green');\n",
    "plt.legend();\n",
    "plt.xlabel('GDP Per Cápita ($)')\n",
    "plt.title('GDP per cápita distribution (Fig 2)');\n"
   ]
  },
  {
   "cell_type": "markdown",
   "metadata": {},
   "source": [
    "We can see on the histogram, that the most significant change has been made on the lower side of the spectrum. This means that since 1986, almost 20 countries have moved from the <= 10000$ of gdp percapita to the medium income zone. We can also see, that the median and mean of the distribution has moved significantly to the right. We'll check that now:"
   ]
  },
  {
   "cell_type": "code",
   "execution_count": 44,
   "metadata": {},
   "outputs": [
    {
     "name": "stdout",
     "output_type": "stream",
     "text": [
      "The median GDP per capita in 1986 was: 2910.0 $\n",
      "The median GDP per capita in 1986 was: 5490.0 $\n",
      "The mean GDP per capita in 1986 was: 9810.569536423842 $\n",
      "The mean GDP per capita in 2016 was: 16290.238410596026 $\n"
     ]
    }
   ],
   "source": [
    "print(\"The median GDP per capita in 1986 was: {} $\".format(gdp['1986'].median()))\n",
    "print(\"The median GDP per capita in 1986 was: {} $\".format(gdp['2016'].median()))\n",
    "print(\"The mean GDP per capita in 1986 was: {} $\".format(gdp['1986'].mean()))\n",
    "print(\"The mean GDP per capita in 2016 was: {} $\".format(gdp['2016'].mean()))"
   ]
  },
  {
   "cell_type": "markdown",
   "metadata": {},
   "source": [
    "With this we can see that the average GDP per capita was 9810 dollars in 1986, but the median was 2910 dollars, meaning that a most of the countries were to the left of the mean. We can also see that the median GDP per capita has almost doubled since 1986. \n",
    "\n",
    "### Education Years"
   ]
  },
  {
   "cell_type": "code",
   "execution_count": 45,
   "metadata": {},
   "outputs": [
    {
     "data": {
      "image/png": "[encoded data removed]",
      "text/plain": [
       "<Figure size 432x288 with 1 Axes>"
      ]
     },
     "metadata": {
      "needs_background": "light"
     },
     "output_type": "display_data"
    }
   ],
   "source": [
    "men_86 = men_yr['1986'].dropna()\n",
    "women_86 = women_yr['1986'].dropna()\n",
    "women_09 = women_yr['2009'].dropna()\n",
    "men_09 = men_yr['2009'].dropna()\n",
    "\n",
    "\n",
    "plt.scatter(x = men_86, y = women_86, alpha = 0.5, label = '1986')\n",
    "plt.scatter(x = men_09, y = women_09, alpha = 0.5, label = '2009')\n",
    "plt.xlabel('Mean Years Education Men')\n",
    "plt.ylabel('Mean Years Education Women')\n",
    "plt.title('Mean years of education Men Vs. Women (Fig 3)')\n",
    "plt.legend();\n",
    "x = np.linspace(0,13)\n",
    "plt.plot(x, x, color = 'black');"
   ]
  },
  {
   "cell_type": "markdown",
   "metadata": {},
   "source": [
    "We can observe how the distribution is clearly skewed to the men. Each dot under the line represents a country in which the men have a higher mean years of education than women. Other fact that stands out from the graph is that we can see a clear relationship between years in education and equality. The more years spent in education, the more equal the access seems to be for men and women.\n",
    "\n",
    "\n",
    "Let's see if this is related to Economic development. We are going to create an indicator based on this data. We'll divide the mean years of education in men by the mean years of education for women. \n",
    "\n",
    "* i > 1 -> Men had more years of education than women\n",
    "* i = 1 -> Equality\n",
    "* i < 1 -> Women had more years of education than men"
   ]
  },
  {
   "cell_type": "code",
   "execution_count": 46,
   "metadata": {},
   "outputs": [
    {
     "data": {
      "text/html": [
       "<div>\n",
       "<style scoped>\n",
       "    .dataframe tbody tr th:only-of-type {\n",
       "        vertical-align: middle;\n",
       "    }\n",
       "\n",
       "    .dataframe tbody tr th {\n",
       "        vertical-align: top;\n",
       "    }\n",
       "\n",
       "    .dataframe thead th {\n",
       "        text-align: right;\n",
       "    }\n",
       "</style>\n",
       "<table border=\"1\" class=\"dataframe\">\n",
       "  <thead>\n",
       "    <tr style=\"text-align: right;\">\n",
       "      <th></th>\n",
       "      <th>1986_men</th>\n",
       "      <th>1986_women</th>\n",
       "    </tr>\n",
       "    <tr>\n",
       "      <th>country</th>\n",
       "      <th></th>\n",
       "      <th></th>\n",
       "    </tr>\n",
       "  </thead>\n",
       "  <tbody>\n",
       "    <tr>\n",
       "      <th>Afghanistan</th>\n",
       "      <td>1.4</td>\n",
       "      <td>0.1</td>\n",
       "    </tr>\n",
       "    <tr>\n",
       "      <th>Angola</th>\n",
       "      <td>2.7</td>\n",
       "      <td>1.0</td>\n",
       "    </tr>\n",
       "    <tr>\n",
       "      <th>Albania</th>\n",
       "      <td>7.2</td>\n",
       "      <td>5.9</td>\n",
       "    </tr>\n",
       "    <tr>\n",
       "      <th>United Arab Emirates</th>\n",
       "      <td>5.4</td>\n",
       "      <td>3.6</td>\n",
       "    </tr>\n",
       "    <tr>\n",
       "      <th>Argentina</th>\n",
       "      <td>7.6</td>\n",
       "      <td>7.4</td>\n",
       "    </tr>\n",
       "  </tbody>\n",
       "</table>\n",
       "</div>"
      ],
      "text/plain": [
       "                      1986_men  1986_women\n",
       "country                                   \n",
       "Afghanistan                1.4         0.1\n",
       "Angola                     2.7         1.0\n",
       "Albania                    7.2         5.9\n",
       "United Arab Emirates       5.4         3.6\n",
       "Argentina                  7.6         7.4"
      ]
     },
     "execution_count": 46,
     "metadata": {},
     "output_type": "execute_result"
    }
   ],
   "source": [
    "complete = men_86.to_frame().join(women_86, how = 'inner', lsuffix = '_men', rsuffix= '_women')\n",
    "complete.head()"
   ]
  },
  {
   "cell_type": "code",
   "execution_count": 47,
   "metadata": {},
   "outputs": [],
   "source": [
    "# Let's create the indicator column as a calculation.\n",
    "complete['indicator'] = complete['1986_men'] / complete ['1986_women']\n",
    "\n",
    "# Let's join our education and economy data.\n",
    "edu_gdp = complete.join(gdp_86, how = 'inner')"
   ]
  },
  {
   "cell_type": "markdown",
   "metadata": {},
   "source": [
    "### Education years VS. GDP"
   ]
  },
  {
   "cell_type": "code",
   "execution_count": 48,
   "metadata": {},
   "outputs": [
    {
     "data": {
      "image/png": "[encoded data removed]",
      "text/plain": [
       "<Figure size 432x288 with 1 Axes>"
      ]
     },
     "metadata": {
      "needs_background": "light"
     },
     "output_type": "display_data"
    }
   ],
   "source": [
    "plt.scatter(x = edu_gdp['1986'], y = edu_gdp['indicator'])\n",
    "plt.xlabel('GDP Per Capita in $')\n",
    "plt.ylabel('Education Equality Indicator')\n",
    "plt.title('Education Equality Indicator Vs. GDP (Fig 4)');\n"
   ]
  },
  {
   "cell_type": "markdown",
   "metadata": {},
   "source": [
    "We can see that there's a huge dispersion on our indicator for low income countries and also, how, generally speaking the inequality in education years drops with higher income. "
   ]
  },
  {
   "cell_type": "code",
   "execution_count": 49,
   "metadata": {},
   "outputs": [
    {
     "data": {
      "image/png": "[encoded data removed]",
      "text/plain": [
       "<Figure size 432x288 with 1 Axes>"
      ]
     },
     "metadata": {
      "needs_background": "light"
     },
     "output_type": "display_data"
    }
   ],
   "source": [
    "plt.scatter(x = final['2009'], y = final['indicator'], alpha = 0.4, label = '2009')\n",
    "plt.scatter(x = edu_gdp['1986'], y = edu_gdp['indicator'], alpha = 0.3, label = '1986')\n",
    "plt.xlabel('GDP Per Capita')\n",
    "plt.ylabel('Education Equality Indicator')\n",
    "plt.legend();\n",
    "plt.title('GDP Vs. Equality Indicator 1986-2019 , (Fig 5)');\n"
   ]
  },
  {
   "cell_type": "markdown",
   "metadata": {},
   "source": [
    "We can see that the distribution has changed to the right and to the bottom. Two factors affect here, the GDP has generally risen and the inequality in education in the low income countris has severally decreased in the late years. \n",
    "\n",
    "# Conclusions\n",
    "\n",
    "### "
   ]
  },
  {
   "cell_type": "markdown",
   "metadata": {},
   "source": [
    "### How has the Distribution of income changed from 1986 to 2006?\n",
    "\n",
    "In the EDA (Fig 1 and Fig 2), we could see how the distribution of income in the world has steered to the right (higher GDP per cápita), two movements stand out: \n",
    "* Movement towards median earning countries. This can be explained due to development of countries such as China, Easter Europe etc.\n",
    "* Main change has been in the low percentiles. Almost 20 countries have left the lowest income terrain and moved to higher earning status.\n",
    "\n",
    "Even though this seems positive, it remains an issue that 50% of the world still has a lower GDP per cápitan than 5490$ and the distribution is hugely skewed to the right. \n",
    "\n",
    "\n",
    "### Has inequality in access to education got better in the 21 century?\n",
    "\n",
    "As we can see in our analysis (Fig 3), situation has gotten better, but not because what it may appear. We can see how the data points have moved towards to top right corner. This means that, in average, people are staying longer years in education than before. We can see a clear correlation also, between average years in education and equality in access to it. All of this can be summed up in: \n",
    "\n",
    "* Developed countries are leading the way in inequality reduction: We can see a far greater reduction in inequality in the countries with more years in average in education, which later we confirmed in our GDP Vs. our education equality indicator (Fig 5).\n",
    "\n",
    "* Undeveloped countries have performed better but the improvement is small and needs a bump. We see a decrease in extreme values in Education inequality Indicator, but little movement towards the upper part of out scatter plot which would mean greater strives for equality (Fig 3).\n",
    "\n",
    "\n",
    "### Is there a relatiionship between Education Inequality and Income?"
   ]
  },
  {
   "cell_type": "markdown",
   "metadata": {},
   "source": [
    "We can see there's a clear relationship between income measured by GDP per cápita and education inequality expressed by our Education Equality Indicator. (Fig 5). The relationship does not seem linear at first, but this may be due to the extreme amount of values concentrated in the lower percentile for GDP Per Cápita. \n",
    "\n",
    "Also, we can appreciate a really quick descent in education inequality once the countries start to move towards higher income, having almost 90% of the countries that have > 10.000$ in GDP really near to a value of 1 in the indicator."
   ]
  }
 ],
 "metadata": {
  "kernelspec": {
   "display_name": "Python 3.10.4 64-bit",
   "language": "python",
   "name": "python3"
  },
  "language_info": {
   "codemirror_mode": {
    "name": "ipython",
    "version": 3
   },
   "file_extension": ".py",
   "mimetype": "text/x-python",
   "name": "python",
   "nbconvert_exporter": "python",
   "pygments_lexer": "ipython3",
   "version": "3.10.4"
  },
  "orig_nbformat": 4,
  "vscode": {
   "interpreter": {
    "hash": "aee8b7b246df8f9039afb4144a1f6fd8d2ca17a180786b69acc140d282b71a49"
   }
  }
 },
 "nbformat": 4,
 "nbformat_minor": 2
}

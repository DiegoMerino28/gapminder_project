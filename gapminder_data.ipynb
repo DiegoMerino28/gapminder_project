{
 "cells": [
  {
   "cell_type": "markdown",
   "metadata": {},
   "source": [
    "# Gapminder Data Analysis"
   ]
  },
  {
   "cell_type": "markdown",
   "metadata": {},
   "source": [
    "# Introduction\n",
    "\n",
    "### Dataset Description\n",
    "\n",
    "For this project, we're going to be using data from the [gapminder project](https://www.gapminder.org/data/). Specifically, we'll be looking at relationships between GDP Per cápita and Education inequality. \n",
    "\n",
    "For this, we're going to use two different datasets: \n",
    "* GDP Per Cápita Adjusted for constant 2010 prices in $ [Dataset](https://www.gapminder.org/data/)\n",
    "* Mean Years of education for men and women > 25 years old [Dataset men](https://www.gapminder.org/data/)[Dataset Women](https://www.gapminder.org/data/)\n",
    "\n",
    "### Questions for analysis\n",
    "\n",
    "We're going to be centering ourselves on the theme of Education Vs Income. \n",
    "\n",
    "For this, We'll be answeting the following questions: \n",
    "\n",
    "* How has the Distribution of income changed from 1986 to 2006?\n",
    "* Has inequality in access to education got better in the 21 century?\n",
    "* Is there a relatiionship between Education Inequality and Income?\n",
    "\n"
   ]
  },
  {
   "cell_type": "code",
   "execution_count": 139,
   "metadata": {},
   "outputs": [],
   "source": [
    "#  Library importation and data loading\n",
    "import pandas as pd\n",
    "import numpy as np\n",
    "import matplotlib.pyplot as plt\n",
    "%matplotlib inline\n",
    "\n",
    "df = pd.read_csv('gdppercapita.csv', index_col = 'country')"
   ]
  },
  {
   "cell_type": "markdown",
   "metadata": {},
   "source": [
    "# Data Wrangling"
   ]
  },
  {
   "cell_type": "markdown",
   "metadata": {},
   "source": [
    "### GDP Per Capita Data\n",
    "We'll be working with data from the years 1986 and 2016. We are working with this values, so that we can visualize the changes in the 40 years that have passed. "
   ]
  },
  {
   "cell_type": "code",
   "execution_count": 140,
   "metadata": {},
   "outputs": [
    {
     "data": {
      "text/plain": [
       "country\n",
       "Aruba                   17.2k\n",
       "Angola                   3230\n",
       "Albania                  1800\n",
       "Andorra                 29.2k\n",
       "United Arab Emirates    62.4k\n",
       "Name: 1986, dtype: object"
      ]
     },
     "execution_count": 140,
     "metadata": {},
     "output_type": "execute_result"
    }
   ],
   "source": [
    "# We select the years that we'll be using\n",
    "gdp_86 = df['1986']\n",
    "gdp_16 = df['2016']\n",
    "\n",
    "# Drop the null values\n",
    "gdp_86.dropna(inplace= True)\n",
    "gdp_16.dropna(inplace = True)\n",
    "\n",
    "gdp_86.head()"
   ]
  },
  {
   "cell_type": "markdown",
   "metadata": {},
   "source": [
    "We can see that there are rows that have some issues with the data format. We need to deal with the decimal dots '.' and the k that means the value has to be multiplied by 1000. We'll clean the data now:"
   ]
  },
  {
   "cell_type": "code",
   "execution_count": 141,
   "metadata": {},
   "outputs": [],
   "source": [
    "# We define functions to reuse when wrangling the data.\n",
    "\n",
    "def remove_k(df):\n",
    "    # This function removes the k in the rows of the dataframe given\n",
    "    df = df.apply(lambda x: x.replace('k', ''))\n",
    "    df.to_frame()\n",
    "    return df\n",
    "\n",
    "def remove_thousands(df):\n",
    "    # We remove the punctuation and turn the numbers in the correct format.\n",
    "    df = df.apply(lambda x: int(x.replace('.', '')) * 100 if (len(x) == 4 and '.' in x) else (int(x)* 1000 if len(x) == 2 else x))\n",
    "    df.to_frame().astype('int32')\n",
    "    return df\n"
   ]
  },
  {
   "cell_type": "code",
   "execution_count": 142,
   "metadata": {},
   "outputs": [
    {
     "data": {
      "text/html": [
       "<div>\n",
       "<style scoped>\n",
       "    .dataframe tbody tr th:only-of-type {\n",
       "        vertical-align: middle;\n",
       "    }\n",
       "\n",
       "    .dataframe tbody tr th {\n",
       "        vertical-align: top;\n",
       "    }\n",
       "\n",
       "    .dataframe thead th {\n",
       "        text-align: right;\n",
       "    }\n",
       "</style>\n",
       "<table border=\"1\" class=\"dataframe\">\n",
       "  <thead>\n",
       "    <tr style=\"text-align: right;\">\n",
       "      <th></th>\n",
       "      <th>1986</th>\n",
       "      <th>2016</th>\n",
       "    </tr>\n",
       "    <tr>\n",
       "      <th>country</th>\n",
       "      <th></th>\n",
       "      <th></th>\n",
       "    </tr>\n",
       "  </thead>\n",
       "  <tbody>\n",
       "    <tr>\n",
       "      <th>Aruba</th>\n",
       "      <td>17200</td>\n",
       "      <td>28800</td>\n",
       "    </tr>\n",
       "    <tr>\n",
       "      <th>Angola</th>\n",
       "      <td>3230</td>\n",
       "      <td>3920</td>\n",
       "    </tr>\n",
       "    <tr>\n",
       "      <th>Albania</th>\n",
       "      <td>1800</td>\n",
       "      <td>4090</td>\n",
       "    </tr>\n",
       "    <tr>\n",
       "      <th>Andorra</th>\n",
       "      <td>29200</td>\n",
       "      <td>37400</td>\n",
       "    </tr>\n",
       "    <tr>\n",
       "      <th>United Arab Emirates</th>\n",
       "      <td>62400</td>\n",
       "      <td>39400</td>\n",
       "    </tr>\n",
       "  </tbody>\n",
       "</table>\n",
       "</div>"
      ],
      "text/plain": [
       "                       1986   2016\n",
       "country                           \n",
       "Aruba                 17200  28800\n",
       "Angola                 3230   3920\n",
       "Albania                1800   4090\n",
       "Andorra               29200  37400\n",
       "United Arab Emirates  62400  39400"
      ]
     },
     "execution_count": 142,
     "metadata": {},
     "output_type": "execute_result"
    }
   ],
   "source": [
    "# Now we pass the dataframes to our cleaning functions:\n",
    "\n",
    "gdp_86 = remove_k(gdp_86)\n",
    "gdp_86 = remove_thousands(gdp_86).to_frame().astype('int32')\n",
    "\n",
    "gdp_16 = remove_k(gdp_16)\n",
    "gdp_16 = remove_thousands(gdp_16).to_frame().astype('int32')\n",
    "\n",
    "\n",
    "# To ensure that we got data from the same countries, let's perform a join\n",
    "gdp = gdp_86.join(gdp_16, how='inner')\n",
    "\n",
    "gdp.head()\n",
    "\n"
   ]
  },
  {
   "cell_type": "markdown",
   "metadata": {},
   "source": [
    "### Mean years in School (Men VS. Women)"
   ]
  },
  {
   "cell_type": "code",
   "execution_count": 143,
   "metadata": {},
   "outputs": [
    {
     "data": {
      "text/html": [
       "<div>\n",
       "<style scoped>\n",
       "    .dataframe tbody tr th:only-of-type {\n",
       "        vertical-align: middle;\n",
       "    }\n",
       "\n",
       "    .dataframe tbody tr th {\n",
       "        vertical-align: top;\n",
       "    }\n",
       "\n",
       "    .dataframe thead th {\n",
       "        text-align: right;\n",
       "    }\n",
       "</style>\n",
       "<table border=\"1\" class=\"dataframe\">\n",
       "  <thead>\n",
       "    <tr style=\"text-align: right;\">\n",
       "      <th></th>\n",
       "      <th>2009</th>\n",
       "    </tr>\n",
       "    <tr>\n",
       "      <th>country</th>\n",
       "      <th></th>\n",
       "    </tr>\n",
       "  </thead>\n",
       "  <tbody>\n",
       "    <tr>\n",
       "      <th>Afghanistan</th>\n",
       "      <td>2.6</td>\n",
       "    </tr>\n",
       "    <tr>\n",
       "      <th>Angola</th>\n",
       "      <td>5.1</td>\n",
       "    </tr>\n",
       "    <tr>\n",
       "      <th>Albania</th>\n",
       "      <td>10.2</td>\n",
       "    </tr>\n",
       "    <tr>\n",
       "      <th>United Arab Emirates</th>\n",
       "      <td>9.5</td>\n",
       "    </tr>\n",
       "    <tr>\n",
       "      <th>Argentina</th>\n",
       "      <td>9.8</td>\n",
       "    </tr>\n",
       "  </tbody>\n",
       "</table>\n",
       "</div>"
      ],
      "text/plain": [
       "                      2009\n",
       "country                   \n",
       "Afghanistan            2.6\n",
       "Angola                 5.1\n",
       "Albania               10.2\n",
       "United Arab Emirates   9.5\n",
       "Argentina              9.8"
      ]
     },
     "execution_count": 143,
     "metadata": {},
     "output_type": "execute_result"
    }
   ],
   "source": [
    "# First loading and data inspection\n",
    "men_yr_09 = pd.read_csv('mean_years_men_25.csv', index_col=0, usecols=['country', '2009'])\n",
    "women_yr_09 = pd.read_csv('mean_years_women_25.csv', index_col=0, usecols = ['country', '2009'])\n",
    "\n",
    "men_yr_86 = pd.read_csv('mean_years_men_25.csv', index_col=0, usecols=['country', '1986'])\n",
    "women_yr_86 = pd.read_csv('mean_years_women_25.csv', index_col=0, usecols = ['country', '1986'])\n",
    "\n",
    "men_yr_09.head()"
   ]
  },
  {
   "cell_type": "code",
   "execution_count": 144,
   "metadata": {},
   "outputs": [
    {
     "data": {
      "text/html": [
       "<div>\n",
       "<style scoped>\n",
       "    .dataframe tbody tr th:only-of-type {\n",
       "        vertical-align: middle;\n",
       "    }\n",
       "\n",
       "    .dataframe tbody tr th {\n",
       "        vertical-align: top;\n",
       "    }\n",
       "\n",
       "    .dataframe thead th {\n",
       "        text-align: right;\n",
       "    }\n",
       "</style>\n",
       "<table border=\"1\" class=\"dataframe\">\n",
       "  <thead>\n",
       "    <tr style=\"text-align: right;\">\n",
       "      <th></th>\n",
       "      <th>2009</th>\n",
       "    </tr>\n",
       "    <tr>\n",
       "      <th>country</th>\n",
       "      <th></th>\n",
       "    </tr>\n",
       "  </thead>\n",
       "  <tbody>\n",
       "    <tr>\n",
       "      <th>Aruba</th>\n",
       "      <td>26900</td>\n",
       "    </tr>\n",
       "    <tr>\n",
       "      <th>Afghanistan</th>\n",
       "      <td>473</td>\n",
       "    </tr>\n",
       "    <tr>\n",
       "      <th>Angola</th>\n",
       "      <td>3960</td>\n",
       "    </tr>\n",
       "    <tr>\n",
       "      <th>Albania</th>\n",
       "      <td>3430</td>\n",
       "    </tr>\n",
       "    <tr>\n",
       "      <th>Andorra</th>\n",
       "      <td>35400</td>\n",
       "    </tr>\n",
       "  </tbody>\n",
       "</table>\n",
       "</div>"
      ],
      "text/plain": [
       "              2009\n",
       "country           \n",
       "Aruba        26900\n",
       "Afghanistan    473\n",
       "Angola        3960\n",
       "Albania       3430\n",
       "Andorra      35400"
      ]
     },
     "execution_count": 144,
     "metadata": {},
     "output_type": "execute_result"
    }
   ],
   "source": [
    "# Let's compare the data between 1986 and the most recent one for education, 2009\n",
    "# We need to clean the data again for 2009\n",
    "gdp_09 = df['2009'].dropna()\n",
    "\n",
    "gdp_09 = remove_k(gdp_09)\n",
    "gdp_09 = remove_thousands(gdp_09).to_frame().astype('int32')\n",
    "\n",
    "gdp_09.head()"
   ]
  },
  {
   "cell_type": "code",
   "execution_count": 145,
   "metadata": {},
   "outputs": [],
   "source": [
    "# Obtenemos todos nuestros datos para 2009\n",
    "gdp_09.rename({'2009': 'gdp'}, axis = 1, inplace= True)\n",
    "men_09 = men_yr_09.dropna()\n",
    "men_09.rename({'2009' : 'year_men'}, axis = 1, inplace= True)\n",
    "women_09 = women_yr_09.dropna().rename({'2009' : 'year_women'}, axis = 1)\n",
    "\n",
    "women_09.head()\n",
    "\n",
    "# Y 1986\n",
    "\n",
    "gdp_86.rename({'1986': 'gdp'}, axis = 1, inplace= True)\n",
    "men_86 = men_yr_86.dropna()\n",
    "men_86.rename({'1986' : 'year_men'}, axis = 1, inplace= True)\n",
    "women_86 = women_yr_86.dropna().rename({'1986' : 'year_women'}, axis = 1)\n",
    "\n"
   ]
  },
  {
   "cell_type": "code",
   "execution_count": 146,
   "metadata": {},
   "outputs": [
    {
     "data": {
      "text/html": [
       "<div>\n",
       "<style scoped>\n",
       "    .dataframe tbody tr th:only-of-type {\n",
       "        vertical-align: middle;\n",
       "    }\n",
       "\n",
       "    .dataframe tbody tr th {\n",
       "        vertical-align: top;\n",
       "    }\n",
       "\n",
       "    .dataframe thead th {\n",
       "        text-align: right;\n",
       "    }\n",
       "</style>\n",
       "<table border=\"1\" class=\"dataframe\">\n",
       "  <thead>\n",
       "    <tr style=\"text-align: right;\">\n",
       "      <th></th>\n",
       "      <th>gdp</th>\n",
       "      <th>year_men</th>\n",
       "      <th>year_women</th>\n",
       "      <th>indicator</th>\n",
       "    </tr>\n",
       "    <tr>\n",
       "      <th>country</th>\n",
       "      <th></th>\n",
       "      <th></th>\n",
       "      <th></th>\n",
       "      <th></th>\n",
       "    </tr>\n",
       "  </thead>\n",
       "  <tbody>\n",
       "    <tr>\n",
       "      <th>Angola</th>\n",
       "      <td>3230</td>\n",
       "      <td>2.7</td>\n",
       "      <td>1.0</td>\n",
       "      <td>2.700000</td>\n",
       "    </tr>\n",
       "    <tr>\n",
       "      <th>Albania</th>\n",
       "      <td>1800</td>\n",
       "      <td>7.2</td>\n",
       "      <td>5.9</td>\n",
       "      <td>1.220339</td>\n",
       "    </tr>\n",
       "    <tr>\n",
       "      <th>United Arab Emirates</th>\n",
       "      <td>62400</td>\n",
       "      <td>5.4</td>\n",
       "      <td>3.6</td>\n",
       "      <td>1.500000</td>\n",
       "    </tr>\n",
       "    <tr>\n",
       "      <th>Argentina</th>\n",
       "      <td>9410</td>\n",
       "      <td>7.6</td>\n",
       "      <td>7.4</td>\n",
       "      <td>1.027027</td>\n",
       "    </tr>\n",
       "    <tr>\n",
       "      <th>Antigua and Barbuda</th>\n",
       "      <td>9890</td>\n",
       "      <td>9.2</td>\n",
       "      <td>9.4</td>\n",
       "      <td>0.978723</td>\n",
       "    </tr>\n",
       "  </tbody>\n",
       "</table>\n",
       "</div>"
      ],
      "text/plain": [
       "                        gdp  year_men  year_women  indicator\n",
       "country                                                     \n",
       "Angola                 3230       2.7         1.0   2.700000\n",
       "Albania                1800       7.2         5.9   1.220339\n",
       "United Arab Emirates  62400       5.4         3.6   1.500000\n",
       "Argentina              9410       7.6         7.4   1.027027\n",
       "Antigua and Barbuda    9890       9.2         9.4   0.978723"
      ]
     },
     "execution_count": 146,
     "metadata": {},
     "output_type": "execute_result"
    }
   ],
   "source": [
    "# JUntamos todos los datos en un solo DataFrame\n",
    "final_09 = gdp_09.join(men_09, how = 'inner').join(women_09, how = 'inner')\n",
    "\n",
    "# Calculamos nuestro indicador para el año 2009\n",
    "final_09['indicator'] = final_09['year_men'] / final_09['year_women']\n",
    "final_09.head()\n",
    "\n",
    "# Tambien los datos de 2016\n",
    "final_86 = gdp_86.join(men_86, how = 'inner').join(women_86, how = 'inner')\n",
    "\n",
    "# Calculamos nuestro indicador para el año 2016\n",
    "final_86['indicator'] = final_86['year_men'] / final_86['year_women']\n",
    "final_86.head()"
   ]
  },
  {
   "cell_type": "markdown",
   "metadata": {},
   "source": [
    "# Exploratory Data Analysis\n",
    "\n",
    "Let's take a look at our data to see how it looks like after cleaning\n",
    "\n",
    "### GDP per capita"
   ]
  },
  {
   "cell_type": "code",
   "execution_count": 147,
   "metadata": {},
   "outputs": [
    {
     "data": {
      "image/png": "[encoded data removed]",
      "text/plain": [
       "<Figure size 432x288 with 1 Axes>"
      ]
     },
     "metadata": {
      "needs_background": "light"
     },
     "output_type": "display_data"
    }
   ],
   "source": [
    "gdp['2016'].plot(kind = 'hist', label = '2016')\n",
    "gdp['1986'].plot(kind = 'hist', label = '1986')\n",
    "plt.legend()\n",
    "plt.xlabel('GDP Per Cápita ($)')\n",
    "plt.title('GDP per cápita distribution (Fig 1)');"
   ]
  },
  {
   "cell_type": "markdown",
   "metadata": {},
   "source": [
    "\n",
    "\n",
    "We can see that the distribution as a whole moved to the right. This makes sense, as the world as a whole has experienced continued advances and progress in economic matters in this 4 decades. Let's eliminate some of the outliers (> 100.000 $) so that we can see a more detailed graph."
   ]
  },
  {
   "cell_type": "code",
   "execution_count": 148,
   "metadata": {},
   "outputs": [
    {
     "data": {
      "image/png": "[encoded data removed]",
      "text/plain": [
       "<Figure size 432x288 with 1 Axes>"
      ]
     },
     "metadata": {
      "needs_background": "light"
     },
     "output_type": "display_data"
    }
   ],
   "source": [
    "plt.hist(x=gdp[gdp['2016'] <= 100000]['2016'], alpha = 0.2, label= '2016', color = 'red');\n",
    "plt.hist(x=gdp[gdp['1986'] <= 100000]['1986'], alpha = 0.3, label= '1986', color = 'green');\n",
    "plt.legend();\n",
    "plt.xlabel('GDP Per Cápita ($)')\n",
    "plt.title('GDP per cápita distribution (Fig 2)');\n"
   ]
  },
  {
   "cell_type": "markdown",
   "metadata": {},
   "source": [
    "We can see on the histogram, that the most significant change has been made on the lower side of the spectrum. This means that since 1986, almost 20 countries have moved from the <= 10000$ of gdp percapita to the medium income zone. We can also see, that the median and mean of the distribution has moved significantly to the right. We'll check that now:"
   ]
  },
  {
   "cell_type": "code",
   "execution_count": 149,
   "metadata": {},
   "outputs": [
    {
     "name": "stdout",
     "output_type": "stream",
     "text": [
      "The median GDP per capita in 1986 was: 2910.0 $\n",
      "The median GDP per capita in 1986 was: 4810.0 $\n",
      "The mean GDP per capita in 1986 was: 9810.569536423842 $\n",
      "The mean GDP per capita in 2016 was: 13776.19867549669 $\n"
     ]
    }
   ],
   "source": [
    "print(\"The median GDP per capita in 1986 was: {} $\".format(gdp['1986'].median()))\n",
    "print(\"The median GDP per capita in 1986 was: {} $\".format(gdp['2016'].median()))\n",
    "print(\"The mean GDP per capita in 1986 was: {} $\".format(gdp['1986'].mean()))\n",
    "print(\"The mean GDP per capita in 2016 was: {} $\".format(gdp['2016'].mean()))"
   ]
  },
  {
   "cell_type": "markdown",
   "metadata": {},
   "source": [
    "With this we can see that the average GDP per capita was 9810 dollars in 1986, but the median was 2910 dollars, meaning that a most of the countries were to the left of the mean. We can also see that the median GDP per capita has almost doubled since 1986. \n",
    "\n",
    "### Education Years"
   ]
  },
  {
   "cell_type": "code",
   "execution_count": 150,
   "metadata": {},
   "outputs": [
    {
     "data": {
      "image/png": "[encoded data removed]",
      "text/plain": [
       "<Figure size 432x288 with 1 Axes>"
      ]
     },
     "metadata": {
      "needs_background": "light"
     },
     "output_type": "display_data"
    }
   ],
   "source": [
    "plt.scatter(x = final_86['year_men'], y = final_86['year_women'], alpha = 0.5, label = '1986')\n",
    "plt.scatter(x = final_09['year_men'], y = final_09['year_women'], alpha = 0.5, label = '2009')\n",
    "plt.xlabel('Mean Years Education Men')\n",
    "plt.ylabel('Mean Years Education Women')\n",
    "plt.title('Mean years of education Men Vs. Women (Fig 3)')\n",
    "plt.legend();\n",
    "x = np.linspace(0,13)\n",
    "plt.plot(x, x, color = 'black');"
   ]
  },
  {
   "cell_type": "markdown",
   "metadata": {},
   "source": [
    "We can observe how the distribution is clearly skewed to the men. Each dot under the line represents a country in which the men have a higher mean years of education than women. Other fact that stands out from the graph is that we can see a clear relationship between years in education and equality. The more years spent in education, the more equal the access seems to be for men and women.\n",
    "\n",
    "\n",
    "Let's see if this is related to Economic development. We created an indicator based on this data. We'll divide the mean years of education in men by the mean years of education for women. \n",
    "\n",
    "* i > 1 -> Men had more years of education than women\n",
    "* i = 1 -> Equality\n",
    "* i < 1 -> Women had more years of education than men"
   ]
  },
  {
   "cell_type": "markdown",
   "metadata": {},
   "source": [
    "### Education years VS. GDP"
   ]
  },
  {
   "cell_type": "code",
   "execution_count": 151,
   "metadata": {},
   "outputs": [
    {
     "data": {
      "image/png": "[encoded data removed]",
      "text/plain": [
       "<Figure size 432x288 with 1 Axes>"
      ]
     },
     "metadata": {
      "needs_background": "light"
     },
     "output_type": "display_data"
    }
   ],
   "source": [
    "plt.scatter(x = final_86['gdp'], y = final_86['indicator'])\n",
    "plt.xlabel('GDP Per Capita in $')\n",
    "plt.ylabel('Education Equality Indicator')\n",
    "plt.title('Education Equality Indicator Vs. GDP (Fig 4)');\n"
   ]
  },
  {
   "cell_type": "markdown",
   "metadata": {},
   "source": [
    "We can see that there's a huge dispersion on our indicator for low income countries and also, how, generally speaking the inequality in education years drops with higher income. "
   ]
  },
  {
   "cell_type": "code",
   "execution_count": 152,
   "metadata": {},
   "outputs": [
    {
     "data": {
      "text/plain": [
       "gdp             int32\n",
       "year_men      float64\n",
       "year_women    float64\n",
       "indicator     float64\n",
       "dtype: object"
      ]
     },
     "execution_count": 152,
     "metadata": {},
     "output_type": "execute_result"
    }
   ],
   "source": [
    "final_09.dtypes"
   ]
  },
  {
   "cell_type": "code",
   "execution_count": 153,
   "metadata": {},
   "outputs": [
    {
     "data": {
      "image/png": "[encoded data removed]",
      "text/plain": [
       "<Figure size 432x288 with 1 Axes>"
      ]
     },
     "metadata": {
      "needs_background": "light"
     },
     "output_type": "display_data"
    }
   ],
   "source": [
    "plt.scatter(x = final_09['gdp'], y = final_09['indicator'], alpha = 0.4, label = '2009')\n",
    "plt.scatter(x = final_86['gdp'], y = final_86['indicator'], alpha = 0.3, label = '1986')\n",
    "plt.xlabel('GDP Per Capita')\n",
    "plt.ylabel('Education Equality Indicator')\n",
    "plt.legend();\n",
    "plt.title('GDP Vs. Equality Indicator 1986-2019 , (Fig 5)');\n"
   ]
  },
  {
   "cell_type": "markdown",
   "metadata": {},
   "source": [
    "We can see that the distribution has changed to the right and to the bottom. Two factors affect here, the GDP has generally risen and the inequality in education in the low income countris has severally decreased in the late years. \n",
    "\n",
    "# Conclusions\n",
    "\n",
    "### "
   ]
  },
  {
   "cell_type": "markdown",
   "metadata": {},
   "source": [
    "### How has the Distribution of income changed from 1986 to 2006?\n",
    "\n",
    "In the EDA (Fig 1 and Fig 2), we could see how the distribution of income in the world has steered to the right (higher GDP per cápita), two movements stand out: \n",
    "* Movement towards median earning countries. This can be explained due to development of countries such as China, Easter Europe etc.\n",
    "* Main change has been in the low percentiles. Almost 20 countries have left the lowest income terrain and moved to higher earning status.\n",
    "\n",
    "Even though this seems positive, it remains an issue that 50% of the world still has a lower GDP per cápitan than 5490$ and the distribution is hugely skewed to the right. \n",
    "\n",
    "\n",
    "### Has inequality in access to education got better in the 21 century?\n",
    "\n",
    "As we can see in our analysis (Fig 3), situation has gotten better, but not because what it may appear. We can see how the data points have moved towards to top right corner. This means that, in average, people are staying longer years in education than before. We can see a clear correlation also, between average years in education and equality in access to it. All of this can be summed up in: \n",
    "\n",
    "* Developed countries are leading the way in inequality reduction: We can see a far greater reduction in inequality in the countries with more years in average in education, which later we confirmed in our GDP Vs. our education equality indicator (Fig 5).\n",
    "\n",
    "* Undeveloped countries have performed better but the improvement is small and needs a bump. We see a decrease in extreme values in Education inequality Indicator, but little movement towards the upper part of out scatter plot which would mean greater strives for equality (Fig 3).\n",
    "\n",
    "\n",
    "### Is there a relatiionship between Education Inequality and Income?"
   ]
  },
  {
   "cell_type": "markdown",
   "metadata": {},
   "source": [
    "We can see there's a clear relationship between income measured by GDP per cápita and education inequality expressed by our Education Equality Indicator. (Fig 5). The relationship does not seem linear at first, but this may be due to the extreme amount of values concentrated in the lower percentile for GDP Per Cápita. \n",
    "\n",
    "Also, we can appreciate a really quick descent in education inequality once the countries start to move towards higher income, having almost 90% of the countries that have > 10.000$ in GDP really near to a value of 1 in the indicator."
   ]
  },
  {
   "cell_type": "markdown",
   "metadata": {},
   "source": [
    "### Limitations"
   ]
  },
  {
   "cell_type": "markdown",
   "metadata": {},
   "source": [
    "I wanted to link this data to Extreme poverty percentages and analyse the situation with those three variables. But the data in the gapminder project was extremely scarce and wasn't enough to perform a complete analysis. It would have reduce the number of countries that were part of this analysis to a minimum, since the data from the World Bank (from where the gapminder data is taken) is really partitioned, a few countries report this data, and the ones that do report it, do it seldom and there are huge gaps in the data. "
   ]
  },
  {
   "cell_type": "markdown",
   "metadata": {},
   "source": []
  }
 ],
 "metadata": {
  "kernelspec": {
   "display_name": "Python 3.10.4 64-bit",
   "language": "python",
   "name": "python3"
  },
  "language_info": {
   "codemirror_mode": {
    "name": "ipython",
    "version": 3
   },
   "file_extension": ".py",
   "mimetype": "text/x-python",
   "name": "python",
   "nbconvert_exporter": "python",
   "pygments_lexer": "ipython3",
   "version": "3.10.4"
  },
  "orig_nbformat": 4,
  "vscode": {
   "interpreter": {
    "hash": "aee8b7b246df8f9039afb4144a1f6fd8d2ca17a180786b69acc140d282b71a49"
   }
  }
 },
 "nbformat": 4,
 "nbformat_minor": 2
}
